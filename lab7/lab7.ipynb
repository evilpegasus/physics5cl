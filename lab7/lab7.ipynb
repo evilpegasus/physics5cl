{
 "cells": [
  {
   "cell_type": "code",
   "execution_count": 1,
   "metadata": {},
   "outputs": [],
   "source": [
    "import numpy as np\n",
    "import pandas as pd\n",
    "import matplotlib.pyplot as plt"
   ]
  },
  {
   "cell_type": "code",
   "execution_count": 9,
   "metadata": {},
   "outputs": [
    {
     "name": "stdout",
     "output_type": "stream",
     "text": [
      "V_canister: 159.04312808798326\n",
      "V_tube: 1.9792033717615698\n",
      "A_piston: 8.295768100885548\n",
      "addition_V_piston 4.147884050442774\n",
      "fixed_volume: 165.1702155101876\n"
     ]
    }
   ],
   "source": [
    "# volumes in cm\n",
    "V_canister = (4.5/2)**2 * np.pi * 10\n",
    "print(\"V_canister:\", V_canister)\n",
    "V_tube = (0.2/2)**2 * np.pi * 63\n",
    "print(\"V_tube:\", V_tube)\n",
    "\n",
    "A_piston = (3.25/2)**2 * np.pi\n",
    "print(\"A_piston:\", A_piston)\n",
    "addition_V_piston = A_piston * 0.5\n",
    "print(\"addition_V_piston\", addition_V_piston)\n",
    "\n",
    "fixed_volume = V_canister + V_tube + addition_V_piston\n",
    "print(\"fixed_volume:\", fixed_volume)"
   ]
  },
  {
   "cell_type": "code",
   "execution_count": 15,
   "metadata": {},
   "outputs": [],
   "source": [
    "data = {\"temp\": [1.537, 21.13, 1.385, 20.70, 1.635, 20.35, 48.41, 48.43, 48.37, 35.01, 13.03, 33.80, 13.31, 32.95, 13.72],\n",
    "\"temp_err\": [0.066, 0.0042, 0.0095, 0.0047, 0.0039, 0.0057, 0.0083, 0.0057, 0.0057, 0.010, 0.0052, 0.0015, 0.0014, 0.0018, 0.0015],\n",
    "\"height\": [ 11, 22, 10, 22, 10, 21.5, 36, 36.5, 37, 32.5, 20.5, 31.5, 21, 31, 22]\n",
    "}\n",
    "df = pd.DataFrame(data)"
   ]
  },
  {
   "cell_type": "code",
   "execution_count": 16,
   "metadata": {},
   "outputs": [
    {
     "data": {
      "text/html": [
       "<div>\n",
       "<style scoped>\n",
       "    .dataframe tbody tr th:only-of-type {\n",
       "        vertical-align: middle;\n",
       "    }\n",
       "\n",
       "    .dataframe tbody tr th {\n",
       "        vertical-align: top;\n",
       "    }\n",
       "\n",
       "    .dataframe thead th {\n",
       "        text-align: right;\n",
       "    }\n",
       "</style>\n",
       "<table border=\"1\" class=\"dataframe\">\n",
       "  <thead>\n",
       "    <tr style=\"text-align: right;\">\n",
       "      <th></th>\n",
       "      <th>temp</th>\n",
       "      <th>temp_err</th>\n",
       "      <th>height</th>\n",
       "    </tr>\n",
       "  </thead>\n",
       "  <tbody>\n",
       "    <tr>\n",
       "      <th>0</th>\n",
       "      <td>1.537</td>\n",
       "      <td>0.0660</td>\n",
       "      <td>11.0</td>\n",
       "    </tr>\n",
       "    <tr>\n",
       "      <th>1</th>\n",
       "      <td>21.130</td>\n",
       "      <td>0.0042</td>\n",
       "      <td>22.0</td>\n",
       "    </tr>\n",
       "    <tr>\n",
       "      <th>2</th>\n",
       "      <td>1.385</td>\n",
       "      <td>0.0095</td>\n",
       "      <td>10.0</td>\n",
       "    </tr>\n",
       "    <tr>\n",
       "      <th>3</th>\n",
       "      <td>20.700</td>\n",
       "      <td>0.0047</td>\n",
       "      <td>22.0</td>\n",
       "    </tr>\n",
       "    <tr>\n",
       "      <th>4</th>\n",
       "      <td>1.635</td>\n",
       "      <td>0.0039</td>\n",
       "      <td>10.0</td>\n",
       "    </tr>\n",
       "    <tr>\n",
       "      <th>5</th>\n",
       "      <td>20.350</td>\n",
       "      <td>0.0057</td>\n",
       "      <td>21.5</td>\n",
       "    </tr>\n",
       "    <tr>\n",
       "      <th>6</th>\n",
       "      <td>48.410</td>\n",
       "      <td>0.0083</td>\n",
       "      <td>36.0</td>\n",
       "    </tr>\n",
       "    <tr>\n",
       "      <th>7</th>\n",
       "      <td>48.430</td>\n",
       "      <td>0.0057</td>\n",
       "      <td>36.5</td>\n",
       "    </tr>\n",
       "    <tr>\n",
       "      <th>8</th>\n",
       "      <td>48.370</td>\n",
       "      <td>0.0057</td>\n",
       "      <td>37.0</td>\n",
       "    </tr>\n",
       "    <tr>\n",
       "      <th>9</th>\n",
       "      <td>35.010</td>\n",
       "      <td>0.0100</td>\n",
       "      <td>32.5</td>\n",
       "    </tr>\n",
       "    <tr>\n",
       "      <th>10</th>\n",
       "      <td>13.030</td>\n",
       "      <td>0.0052</td>\n",
       "      <td>20.5</td>\n",
       "    </tr>\n",
       "    <tr>\n",
       "      <th>11</th>\n",
       "      <td>33.800</td>\n",
       "      <td>0.0015</td>\n",
       "      <td>31.5</td>\n",
       "    </tr>\n",
       "    <tr>\n",
       "      <th>12</th>\n",
       "      <td>13.310</td>\n",
       "      <td>0.0014</td>\n",
       "      <td>21.0</td>\n",
       "    </tr>\n",
       "    <tr>\n",
       "      <th>13</th>\n",
       "      <td>32.950</td>\n",
       "      <td>0.0018</td>\n",
       "      <td>31.0</td>\n",
       "    </tr>\n",
       "    <tr>\n",
       "      <th>14</th>\n",
       "      <td>13.720</td>\n",
       "      <td>0.0015</td>\n",
       "      <td>22.0</td>\n",
       "    </tr>\n",
       "  </tbody>\n",
       "</table>\n",
       "</div>"
      ],
      "text/plain": [
       "      temp  temp_err  height\n",
       "0    1.537    0.0660    11.0\n",
       "1   21.130    0.0042    22.0\n",
       "2    1.385    0.0095    10.0\n",
       "3   20.700    0.0047    22.0\n",
       "4    1.635    0.0039    10.0\n",
       "5   20.350    0.0057    21.5\n",
       "6   48.410    0.0083    36.0\n",
       "7   48.430    0.0057    36.5\n",
       "8   48.370    0.0057    37.0\n",
       "9   35.010    0.0100    32.5\n",
       "10  13.030    0.0052    20.5\n",
       "11  33.800    0.0015    31.5\n",
       "12  13.310    0.0014    21.0\n",
       "13  32.950    0.0018    31.0\n",
       "14  13.720    0.0015    22.0"
      ]
     },
     "execution_count": 16,
     "metadata": {},
     "output_type": "execute_result"
    }
   ],
   "source": [
    "df"
   ]
  },
  {
   "cell_type": "code",
   "execution_count": null,
   "metadata": {},
   "outputs": [],
   "source": []
  },
  {
   "cell_type": "code",
   "execution_count": null,
   "metadata": {},
   "outputs": [],
   "source": []
  },
  {
   "cell_type": "code",
   "execution_count": null,
   "metadata": {},
   "outputs": [],
   "source": []
  }
 ],
 "metadata": {
  "interpreter": {
   "hash": "a5ed12b88d83e9ebd9e82383ea339d23f1309bcfd653b55c7d37b011d8608c91"
  },
  "kernelspec": {
   "display_name": "Python 3.8.0 64-bit",
   "language": "python",
   "name": "python3"
  },
  "language_info": {
   "codemirror_mode": {
    "name": "ipython",
    "version": 3
   },
   "file_extension": ".py",
   "mimetype": "text/x-python",
   "name": "python",
   "nbconvert_exporter": "python",
   "pygments_lexer": "ipython3",
   "version": "3.8.0"
  },
  "orig_nbformat": 4
 },
 "nbformat": 4,
 "nbformat_minor": 2
}
