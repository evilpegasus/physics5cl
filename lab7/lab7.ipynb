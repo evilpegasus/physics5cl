{
 "cells": [
  {
   "cell_type": "code",
   "execution_count": 1,
   "metadata": {},
   "outputs": [],
   "source": [
    "import numpy as np\n",
    "import pandas as pd\n",
    "import matplotlib.pyplot as plt"
   ]
  },
  {
   "cell_type": "code",
   "execution_count": 2,
   "metadata": {},
   "outputs": [
    {
     "name": "stdout",
     "output_type": "stream",
     "text": [
      "V_canister: 159.04312808798326\n",
      "V_tube: 1.9792033717615698\n",
      "A_piston: 8.295768100885548\n",
      "addition_V_piston 4.147884050442774\n",
      "fixed_volume: 165.1702155101876\n"
     ]
    }
   ],
   "source": [
    "# volumes in cm\n",
    "V_canister = (4.5/2)**2 * np.pi * 10\n",
    "print(\"V_canister:\", V_canister)\n",
    "V_tube = (0.2/2)**2 * np.pi * 63\n",
    "print(\"V_tube:\", V_tube)\n",
    "\n",
    "A_piston = (3.25/2)**2 * np.pi\n",
    "print(\"A_piston:\", A_piston)\n",
    "addition_V_piston = A_piston * 0.5\n",
    "print(\"addition_V_piston\", addition_V_piston)\n",
    "\n",
    "fixed_volume = V_canister + V_tube + addition_V_piston\n",
    "print(\"fixed_volume:\", fixed_volume)"
   ]
  },
  {
   "cell_type": "code",
   "execution_count": 3,
   "metadata": {},
   "outputs": [],
   "source": [
    "data = {\"temp\": [1.537, 21.13, 1.385, 20.70, 1.635, 20.35, 48.41, 48.43, 48.37, 35.01, 13.03, 33.80, 13.31, 32.95, 13.72],\n",
    "\"temp_err\": [0.066, 0.0042, 0.0095, 0.0047, 0.0039, 0.0057, 0.0083, 0.0057, 0.0057, 0.010, 0.0052, 0.0015, 0.0014, 0.0018, 0.0015],\n",
    "\"height\": np.array([11, 22, 10, 22, 10, 21.5, 36, 36.5, 37, 32.5, 20.5, 31.5, 21, 31, 22]) * 0.1\n",
    "}\n",
    "df = pd.DataFrame(data)\n",
    "df[\"volume\"] = fixed_volume + df[\"height\"] * A_piston"
   ]
  },
  {
   "cell_type": "code",
   "execution_count": 4,
   "metadata": {},
   "outputs": [
    {
     "data": {
      "text/html": [
       "<div>\n",
       "<style scoped>\n",
       "    .dataframe tbody tr th:only-of-type {\n",
       "        vertical-align: middle;\n",
       "    }\n",
       "\n",
       "    .dataframe tbody tr th {\n",
       "        vertical-align: top;\n",
       "    }\n",
       "\n",
       "    .dataframe thead th {\n",
       "        text-align: right;\n",
       "    }\n",
       "</style>\n",
       "<table border=\"1\" class=\"dataframe\">\n",
       "  <thead>\n",
       "    <tr style=\"text-align: right;\">\n",
       "      <th></th>\n",
       "      <th>temp</th>\n",
       "      <th>temp_err</th>\n",
       "      <th>height</th>\n",
       "      <th>volume</th>\n",
       "    </tr>\n",
       "  </thead>\n",
       "  <tbody>\n",
       "    <tr>\n",
       "      <th>0</th>\n",
       "      <td>1.537</td>\n",
       "      <td>0.0660</td>\n",
       "      <td>1.10</td>\n",
       "      <td>174.295560</td>\n",
       "    </tr>\n",
       "    <tr>\n",
       "      <th>1</th>\n",
       "      <td>21.130</td>\n",
       "      <td>0.0042</td>\n",
       "      <td>2.20</td>\n",
       "      <td>183.420905</td>\n",
       "    </tr>\n",
       "    <tr>\n",
       "      <th>2</th>\n",
       "      <td>1.385</td>\n",
       "      <td>0.0095</td>\n",
       "      <td>1.00</td>\n",
       "      <td>173.465984</td>\n",
       "    </tr>\n",
       "    <tr>\n",
       "      <th>3</th>\n",
       "      <td>20.700</td>\n",
       "      <td>0.0047</td>\n",
       "      <td>2.20</td>\n",
       "      <td>183.420905</td>\n",
       "    </tr>\n",
       "    <tr>\n",
       "      <th>4</th>\n",
       "      <td>1.635</td>\n",
       "      <td>0.0039</td>\n",
       "      <td>1.00</td>\n",
       "      <td>173.465984</td>\n",
       "    </tr>\n",
       "    <tr>\n",
       "      <th>5</th>\n",
       "      <td>20.350</td>\n",
       "      <td>0.0057</td>\n",
       "      <td>2.15</td>\n",
       "      <td>183.006117</td>\n",
       "    </tr>\n",
       "    <tr>\n",
       "      <th>6</th>\n",
       "      <td>48.410</td>\n",
       "      <td>0.0083</td>\n",
       "      <td>3.60</td>\n",
       "      <td>195.034981</td>\n",
       "    </tr>\n",
       "    <tr>\n",
       "      <th>7</th>\n",
       "      <td>48.430</td>\n",
       "      <td>0.0057</td>\n",
       "      <td>3.65</td>\n",
       "      <td>195.449769</td>\n",
       "    </tr>\n",
       "    <tr>\n",
       "      <th>8</th>\n",
       "      <td>48.370</td>\n",
       "      <td>0.0057</td>\n",
       "      <td>3.70</td>\n",
       "      <td>195.864557</td>\n",
       "    </tr>\n",
       "    <tr>\n",
       "      <th>9</th>\n",
       "      <td>35.010</td>\n",
       "      <td>0.0100</td>\n",
       "      <td>3.25</td>\n",
       "      <td>192.131462</td>\n",
       "    </tr>\n",
       "    <tr>\n",
       "      <th>10</th>\n",
       "      <td>13.030</td>\n",
       "      <td>0.0052</td>\n",
       "      <td>2.05</td>\n",
       "      <td>182.176540</td>\n",
       "    </tr>\n",
       "    <tr>\n",
       "      <th>11</th>\n",
       "      <td>33.800</td>\n",
       "      <td>0.0015</td>\n",
       "      <td>3.15</td>\n",
       "      <td>191.301885</td>\n",
       "    </tr>\n",
       "    <tr>\n",
       "      <th>12</th>\n",
       "      <td>13.310</td>\n",
       "      <td>0.0014</td>\n",
       "      <td>2.10</td>\n",
       "      <td>182.591329</td>\n",
       "    </tr>\n",
       "    <tr>\n",
       "      <th>13</th>\n",
       "      <td>32.950</td>\n",
       "      <td>0.0018</td>\n",
       "      <td>3.10</td>\n",
       "      <td>190.887097</td>\n",
       "    </tr>\n",
       "    <tr>\n",
       "      <th>14</th>\n",
       "      <td>13.720</td>\n",
       "      <td>0.0015</td>\n",
       "      <td>2.20</td>\n",
       "      <td>183.420905</td>\n",
       "    </tr>\n",
       "  </tbody>\n",
       "</table>\n",
       "</div>"
      ],
      "text/plain": [
       "      temp  temp_err  height      volume\n",
       "0    1.537    0.0660    1.10  174.295560\n",
       "1   21.130    0.0042    2.20  183.420905\n",
       "2    1.385    0.0095    1.00  173.465984\n",
       "3   20.700    0.0047    2.20  183.420905\n",
       "4    1.635    0.0039    1.00  173.465984\n",
       "5   20.350    0.0057    2.15  183.006117\n",
       "6   48.410    0.0083    3.60  195.034981\n",
       "7   48.430    0.0057    3.65  195.449769\n",
       "8   48.370    0.0057    3.70  195.864557\n",
       "9   35.010    0.0100    3.25  192.131462\n",
       "10  13.030    0.0052    2.05  182.176540\n",
       "11  33.800    0.0015    3.15  191.301885\n",
       "12  13.310    0.0014    2.10  182.591329\n",
       "13  32.950    0.0018    3.10  190.887097\n",
       "14  13.720    0.0015    2.20  183.420905"
      ]
     },
     "execution_count": 4,
     "metadata": {},
     "output_type": "execute_result"
    }
   ],
   "source": [
    "df"
   ]
  },
  {
   "cell_type": "code",
   "execution_count": 5,
   "metadata": {},
   "outputs": [
    {
     "data": {
      "image/png": "[encoded data removed]",
      "text/plain": [
       "<Figure size 432x288 with 1 Axes>"
      ]
     },
     "metadata": {
      "needs_background": "light"
     },
     "output_type": "display_data"
    }
   ],
   "source": [
    "plt.plot(df[\"temp\"], df[\"volume\"], \"o\")\n",
    "plt.title(\"Volume vs Temperature\")\n",
    "plt.xlabel(\"Temperature (C)\")\n",
    "plt.ylabel(\"Volume ($cm^3$)\");"
   ]
  },
  {
   "cell_type": "code",
   "execution_count": 6,
   "metadata": {},
   "outputs": [],
   "source": [
    "# df[\"volume_err\"] = df[\"temp_err\"] * df[\"height\"] * A_piston"
   ]
  },
  {
   "cell_type": "code",
   "execution_count": 7,
   "metadata": {},
   "outputs": [
    {
     "data": {
      "text/html": [
       "<div>\n",
       "<style scoped>\n",
       "    .dataframe tbody tr th:only-of-type {\n",
       "        vertical-align: middle;\n",
       "    }\n",
       "\n",
       "    .dataframe tbody tr th {\n",
       "        vertical-align: top;\n",
       "    }\n",
       "\n",
       "    .dataframe thead th {\n",
       "        text-align: right;\n",
       "    }\n",
       "</style>\n",
       "<table border=\"1\" class=\"dataframe\">\n",
       "  <thead>\n",
       "    <tr style=\"text-align: right;\">\n",
       "      <th></th>\n",
       "      <th>temp</th>\n",
       "      <th>temp_err</th>\n",
       "      <th>height</th>\n",
       "      <th>volume</th>\n",
       "    </tr>\n",
       "  </thead>\n",
       "  <tbody>\n",
       "    <tr>\n",
       "      <th>0</th>\n",
       "      <td>1.537</td>\n",
       "      <td>0.0660</td>\n",
       "      <td>1.10</td>\n",
       "      <td>174.295560</td>\n",
       "    </tr>\n",
       "    <tr>\n",
       "      <th>1</th>\n",
       "      <td>21.130</td>\n",
       "      <td>0.0042</td>\n",
       "      <td>2.20</td>\n",
       "      <td>183.420905</td>\n",
       "    </tr>\n",
       "    <tr>\n",
       "      <th>2</th>\n",
       "      <td>1.385</td>\n",
       "      <td>0.0095</td>\n",
       "      <td>1.00</td>\n",
       "      <td>173.465984</td>\n",
       "    </tr>\n",
       "    <tr>\n",
       "      <th>3</th>\n",
       "      <td>20.700</td>\n",
       "      <td>0.0047</td>\n",
       "      <td>2.20</td>\n",
       "      <td>183.420905</td>\n",
       "    </tr>\n",
       "    <tr>\n",
       "      <th>4</th>\n",
       "      <td>1.635</td>\n",
       "      <td>0.0039</td>\n",
       "      <td>1.00</td>\n",
       "      <td>173.465984</td>\n",
       "    </tr>\n",
       "    <tr>\n",
       "      <th>5</th>\n",
       "      <td>20.350</td>\n",
       "      <td>0.0057</td>\n",
       "      <td>2.15</td>\n",
       "      <td>183.006117</td>\n",
       "    </tr>\n",
       "    <tr>\n",
       "      <th>6</th>\n",
       "      <td>48.410</td>\n",
       "      <td>0.0083</td>\n",
       "      <td>3.60</td>\n",
       "      <td>195.034981</td>\n",
       "    </tr>\n",
       "    <tr>\n",
       "      <th>7</th>\n",
       "      <td>48.430</td>\n",
       "      <td>0.0057</td>\n",
       "      <td>3.65</td>\n",
       "      <td>195.449769</td>\n",
       "    </tr>\n",
       "    <tr>\n",
       "      <th>8</th>\n",
       "      <td>48.370</td>\n",
       "      <td>0.0057</td>\n",
       "      <td>3.70</td>\n",
       "      <td>195.864557</td>\n",
       "    </tr>\n",
       "    <tr>\n",
       "      <th>9</th>\n",
       "      <td>35.010</td>\n",
       "      <td>0.0100</td>\n",
       "      <td>3.25</td>\n",
       "      <td>192.131462</td>\n",
       "    </tr>\n",
       "    <tr>\n",
       "      <th>10</th>\n",
       "      <td>13.030</td>\n",
       "      <td>0.0052</td>\n",
       "      <td>2.05</td>\n",
       "      <td>182.176540</td>\n",
       "    </tr>\n",
       "    <tr>\n",
       "      <th>11</th>\n",
       "      <td>33.800</td>\n",
       "      <td>0.0015</td>\n",
       "      <td>3.15</td>\n",
       "      <td>191.301885</td>\n",
       "    </tr>\n",
       "    <tr>\n",
       "      <th>12</th>\n",
       "      <td>13.310</td>\n",
       "      <td>0.0014</td>\n",
       "      <td>2.10</td>\n",
       "      <td>182.591329</td>\n",
       "    </tr>\n",
       "    <tr>\n",
       "      <th>13</th>\n",
       "      <td>32.950</td>\n",
       "      <td>0.0018</td>\n",
       "      <td>3.10</td>\n",
       "      <td>190.887097</td>\n",
       "    </tr>\n",
       "    <tr>\n",
       "      <th>14</th>\n",
       "      <td>13.720</td>\n",
       "      <td>0.0015</td>\n",
       "      <td>2.20</td>\n",
       "      <td>183.420905</td>\n",
       "    </tr>\n",
       "  </tbody>\n",
       "</table>\n",
       "</div>"
      ],
      "text/plain": [
       "      temp  temp_err  height      volume\n",
       "0    1.537    0.0660    1.10  174.295560\n",
       "1   21.130    0.0042    2.20  183.420905\n",
       "2    1.385    0.0095    1.00  173.465984\n",
       "3   20.700    0.0047    2.20  183.420905\n",
       "4    1.635    0.0039    1.00  173.465984\n",
       "5   20.350    0.0057    2.15  183.006117\n",
       "6   48.410    0.0083    3.60  195.034981\n",
       "7   48.430    0.0057    3.65  195.449769\n",
       "8   48.370    0.0057    3.70  195.864557\n",
       "9   35.010    0.0100    3.25  192.131462\n",
       "10  13.030    0.0052    2.05  182.176540\n",
       "11  33.800    0.0015    3.15  191.301885\n",
       "12  13.310    0.0014    2.10  182.591329\n",
       "13  32.950    0.0018    3.10  190.887097\n",
       "14  13.720    0.0015    2.20  183.420905"
      ]
     },
     "execution_count": 7,
     "metadata": {},
     "output_type": "execute_result"
    }
   ],
   "source": [
    "df"
   ]
  },
  {
   "cell_type": "code",
   "execution_count": 8,
   "metadata": {},
   "outputs": [],
   "source": [
    "from sklearn.linear_model import LinearRegression"
   ]
  },
  {
   "cell_type": "code",
   "execution_count": 9,
   "metadata": {},
   "outputs": [
    {
     "data": {
      "text/plain": [
       "array([0.45569705])"
      ]
     },
     "execution_count": 9,
     "metadata": {},
     "output_type": "execute_result"
    }
   ],
   "source": [
    "lr = LinearRegression()\n",
    "lr.fit(df[[\"temp\"]], df[\"volume\"])\n",
    "lr.coef_"
   ]
  },
  {
   "cell_type": "code",
   "execution_count": 10,
   "metadata": {},
   "outputs": [
    {
     "data": {
      "text/plain": [
       "174.58156002569018"
      ]
     },
     "execution_count": 10,
     "metadata": {},
     "output_type": "execute_result"
    }
   ],
   "source": [
    "lr.intercept_"
   ]
  },
  {
   "cell_type": "code",
   "execution_count": 11,
   "metadata": {},
   "outputs": [
    {
     "data": {
      "text/plain": [
       "array([-383.10881904])"
      ]
     },
     "execution_count": 11,
     "metadata": {},
     "output_type": "execute_result"
    }
   ],
   "source": [
    "-lr.intercept_/lr.coef_"
   ]
  },
  {
   "cell_type": "code",
   "execution_count": 12,
   "metadata": {},
   "outputs": [
    {
     "data": {
      "image/png": "[encoded data removed]",
      "text/plain": [
       "<Figure size 432x288 with 1 Axes>"
      ]
     },
     "metadata": {
      "needs_background": "light"
     },
     "output_type": "display_data"
    }
   ],
   "source": [
    "plt.plot(df[\"temp\"], df[\"volume\"], \"o\", label=\"True data\")\n",
    "plt.plot(df[\"temp\"], lr.predict(df[[\"temp\"]]), \"-\", label=\"Predicted values\")\n",
    "plt.title(\"Volume vs Temperature\")\n",
    "plt.xlabel(\"Temperature (C)\")\n",
    "plt.legend()\n",
    "plt.ylabel(\"Volume ($cm^3$)\");"
   ]
  },
  {
   "cell_type": "code",
   "execution_count": 13,
   "metadata": {},
   "outputs": [],
   "source": [
    "from sklearn.metrics import r2_score"
   ]
  },
  {
   "cell_type": "code",
   "execution_count": 14,
   "metadata": {},
   "outputs": [
    {
     "data": {
      "text/plain": [
       "0.9615678409065225"
      ]
     },
     "execution_count": 14,
     "metadata": {},
     "output_type": "execute_result"
    }
   ],
   "source": [
    "r2_score(df[\"volume\"], lr.predict(df[[\"temp\"]]))"
   ]
  },
  {
   "cell_type": "code",
   "execution_count": 18,
   "metadata": {},
   "outputs": [
    {
     "name": "stderr",
     "output_type": "stream",
     "text": [
      "C:\\Users\\mingf\\AppData\\Local\\Programs\\Python\\Python38\\lib\\site-packages\\numpy\\core\\fromnumeric.py:2580: FutureWarning: Method .ptp is deprecated and will be removed in a future version. Use numpy.ptp instead.\n",
      "  return ptp(axis=axis, out=out, **kwargs)\n",
      "C:\\Users\\mingf\\AppData\\Local\\Programs\\Python\\Python38\\lib\\site-packages\\scipy\\stats\\stats.py:1534: UserWarning: kurtosistest only valid for n>=20 ... continuing anyway, n=15\n",
      "  warnings.warn(\"kurtosistest only valid for n>=20 ... continuing \"\n"
     ]
    },
    {
     "data": {
      "text/html": [
       "<table class=\"simpletable\">\n",
       "<caption>OLS Regression Results</caption>\n",
       "<tr>\n",
       "  <th>Dep. Variable:</th>         <td>volume</td>      <th>  R-squared:         </th> <td>   0.962</td>\n",
       "</tr>\n",
       "<tr>\n",
       "  <th>Model:</th>                   <td>OLS</td>       <th>  Adj. R-squared:    </th> <td>   0.959</td>\n",
       "</tr>\n",
       "<tr>\n",
       "  <th>Method:</th>             <td>Least Squares</td>  <th>  F-statistic:       </th> <td>   325.3</td>\n",
       "</tr>\n",
       "<tr>\n",
       "  <th>Date:</th>             <td>Sun, 17 Apr 2022</td> <th>  Prob (F-statistic):</th> <td>1.39e-10</td>\n",
       "</tr>\n",
       "<tr>\n",
       "  <th>Time:</th>                 <td>14:50:15</td>     <th>  Log-Likelihood:    </th> <td> -27.187</td>\n",
       "</tr>\n",
       "<tr>\n",
       "  <th>No. Observations:</th>      <td>    15</td>      <th>  AIC:               </th> <td>   58.37</td>\n",
       "</tr>\n",
       "<tr>\n",
       "  <th>Df Residuals:</th>          <td>    13</td>      <th>  BIC:               </th> <td>   59.79</td>\n",
       "</tr>\n",
       "<tr>\n",
       "  <th>Df Model:</th>              <td>     1</td>      <th>                     </th>     <td> </td>   \n",
       "</tr>\n",
       "<tr>\n",
       "  <th>Covariance Type:</th>      <td>nonrobust</td>    <th>                     </th>     <td> </td>   \n",
       "</tr>\n",
       "</table>\n",
       "<table class=\"simpletable\">\n",
       "<tr>\n",
       "    <td></td>       <th>coef</th>     <th>std err</th>      <th>t</th>      <th>P>|t|</th>  <th>[0.025</th>    <th>0.975]</th>  \n",
       "</tr>\n",
       "<tr>\n",
       "  <th>const</th> <td>  174.5816</td> <td>    0.724</td> <td>  241.150</td> <td> 0.000</td> <td>  173.018</td> <td>  176.146</td>\n",
       "</tr>\n",
       "<tr>\n",
       "  <th>temp</th>  <td>    0.4557</td> <td>    0.025</td> <td>   18.035</td> <td> 0.000</td> <td>    0.401</td> <td>    0.510</td>\n",
       "</tr>\n",
       "</table>\n",
       "<table class=\"simpletable\">\n",
       "<tr>\n",
       "  <th>Omnibus:</th>       <td> 5.073</td> <th>  Durbin-Watson:     </th> <td>   0.425</td>\n",
       "</tr>\n",
       "<tr>\n",
       "  <th>Prob(Omnibus):</th> <td> 0.079</td> <th>  Jarque-Bera (JB):  </th> <td>   1.653</td>\n",
       "</tr>\n",
       "<tr>\n",
       "  <th>Skew:</th>          <td> 0.355</td> <th>  Prob(JB):          </th> <td>   0.437</td>\n",
       "</tr>\n",
       "<tr>\n",
       "  <th>Kurtosis:</th>      <td> 1.537</td> <th>  Cond. No.          </th> <td>    50.5</td>\n",
       "</tr>\n",
       "</table><br/><br/>Notes:<br/>[1] Standard Errors assume that the covariance matrix of the errors is correctly specified."
      ],
      "text/plain": [
       "<class 'statsmodels.iolib.summary.Summary'>\n",
       "\"\"\"\n",
       "                            OLS Regression Results                            \n",
       "==============================================================================\n",
       "Dep. Variable:                 volume   R-squared:                       0.962\n",
       "Model:                            OLS   Adj. R-squared:                  0.959\n",
       "Method:                 Least Squares   F-statistic:                     325.3\n",
       "Date:                Sun, 17 Apr 2022   Prob (F-statistic):           1.39e-10\n",
       "Time:                        14:50:15   Log-Likelihood:                -27.187\n",
       "No. Observations:                  15   AIC:                             58.37\n",
       "Df Residuals:                      13   BIC:                             59.79\n",
       "Df Model:                           1                                         \n",
       "Covariance Type:            nonrobust                                         \n",
       "==============================================================================\n",
       "                 coef    std err          t      P>|t|      [0.025      0.975]\n",
       "------------------------------------------------------------------------------\n",
       "const        174.5816      0.724    241.150      0.000     173.018     176.146\n",
       "temp           0.4557      0.025     18.035      0.000       0.401       0.510\n",
       "==============================================================================\n",
       "Omnibus:                        5.073   Durbin-Watson:                   0.425\n",
       "Prob(Omnibus):                  0.079   Jarque-Bera (JB):                1.653\n",
       "Skew:                           0.355   Prob(JB):                        0.437\n",
       "Kurtosis:                       1.537   Cond. No.                         50.5\n",
       "==============================================================================\n",
       "\n",
       "Notes:\n",
       "[1] Standard Errors assume that the covariance matrix of the errors is correctly specified.\n",
       "\"\"\""
      ]
     },
     "execution_count": 18,
     "metadata": {},
     "output_type": "execute_result"
    }
   ],
   "source": [
    "import statsmodels.api as sm\n",
    "x = sm.tools.add_constant(df[\"temp\"])\n",
    "y = df[\"volume\"]\n",
    "ols = sm.OLS(y, x)\n",
    "ols_result = ols.fit()\n",
    "ols_result.summary()"
   ]
  },
  {
   "cell_type": "code",
   "execution_count": 21,
   "metadata": {},
   "outputs": [],
   "source": [
    "true_abs_zero = -273.15"
   ]
  }
 ],
 "metadata": {
  "interpreter": {
   "hash": "a5ed12b88d83e9ebd9e82383ea339d23f1309bcfd653b55c7d37b011d8608c91"
  },
  "kernelspec": {
   "display_name": "Python 3.8.0 64-bit",
   "language": "python",
   "name": "python3"
  },
  "language_info": {
   "codemirror_mode": {
    "name": "ipython",
    "version": 3
   },
   "file_extension": ".py",
   "mimetype": "text/x-python",
   "name": "python",
   "nbconvert_exporter": "python",
   "pygments_lexer": "ipython3",
   "version": "3.8.0"
  },
  "orig_nbformat": 4
 },
 "nbformat": 4,
 "nbformat_minor": 2
}
