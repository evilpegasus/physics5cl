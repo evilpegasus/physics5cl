{
 "cells": [
  {
   "cell_type": "code",
   "execution_count": 30,
   "metadata": {},
   "outputs": [],
   "source": [
    "import matplotlib.pyplot as plt\n",
    "import numpy as np\n",
    "import pandas as pd\n",
    "from sklearn.linear_model import LinearRegression"
   ]
  },
  {
   "cell_type": "markdown",
   "metadata": {},
   "source": [
    "# 1"
   ]
  },
  {
   "cell_type": "code",
   "execution_count": 20,
   "metadata": {},
   "outputs": [
    {
     "data": {
      "text/html": [
       "<div>\n",
       "<style scoped>\n",
       "    .dataframe tbody tr th:only-of-type {\n",
       "        vertical-align: middle;\n",
       "    }\n",
       "\n",
       "    .dataframe tbody tr th {\n",
       "        vertical-align: top;\n",
       "    }\n",
       "\n",
       "    .dataframe thead th {\n",
       "        text-align: right;\n",
       "    }\n",
       "</style>\n",
       "<table border=\"1\" class=\"dataframe\">\n",
       "  <thead>\n",
       "    <tr style=\"text-align: right;\">\n",
       "      <th></th>\n",
       "      <th>1</th>\n",
       "      <th>2</th>\n",
       "      <th>3</th>\n",
       "      <th>mean</th>\n",
       "      <th>std err</th>\n",
       "    </tr>\n",
       "    <tr>\n",
       "      <th>0</th>\n",
       "      <th></th>\n",
       "      <th></th>\n",
       "      <th></th>\n",
       "      <th></th>\n",
       "      <th></th>\n",
       "    </tr>\n",
       "  </thead>\n",
       "  <tbody>\n",
       "    <tr>\n",
       "      <th>80.0</th>\n",
       "      <td>80.0</td>\n",
       "      <td>80.5</td>\n",
       "      <td>80.0</td>\n",
       "      <td>80.166667</td>\n",
       "      <td>0.117851</td>\n",
       "    </tr>\n",
       "    <tr>\n",
       "      <th>70.0</th>\n",
       "      <td>70.0</td>\n",
       "      <td>70.0</td>\n",
       "      <td>70.0</td>\n",
       "      <td>70.000000</td>\n",
       "      <td>0.100000</td>\n",
       "    </tr>\n",
       "    <tr>\n",
       "      <th>60.0</th>\n",
       "      <td>60.0</td>\n",
       "      <td>60.0</td>\n",
       "      <td>59.5</td>\n",
       "      <td>59.833333</td>\n",
       "      <td>0.117851</td>\n",
       "    </tr>\n",
       "    <tr>\n",
       "      <th>50.0</th>\n",
       "      <td>49.5</td>\n",
       "      <td>50.0</td>\n",
       "      <td>49.5</td>\n",
       "      <td>49.666667</td>\n",
       "      <td>0.117851</td>\n",
       "    </tr>\n",
       "    <tr>\n",
       "      <th>40.0</th>\n",
       "      <td>39.5</td>\n",
       "      <td>40.0</td>\n",
       "      <td>39.0</td>\n",
       "      <td>39.500000</td>\n",
       "      <td>0.204124</td>\n",
       "    </tr>\n",
       "    <tr>\n",
       "      <th>30.0</th>\n",
       "      <td>29.5</td>\n",
       "      <td>30.5</td>\n",
       "      <td>29.5</td>\n",
       "      <td>29.833333</td>\n",
       "      <td>0.235702</td>\n",
       "    </tr>\n",
       "  </tbody>\n",
       "</table>\n",
       "</div>"
      ],
      "text/plain": [
       "         1     2     3       mean   std err\n",
       "0                                          \n",
       "80.0  80.0  80.5  80.0  80.166667  0.117851\n",
       "70.0  70.0  70.0  70.0  70.000000  0.100000\n",
       "60.0  60.0  60.0  59.5  59.833333  0.117851\n",
       "50.0  49.5  50.0  49.5  49.666667  0.117851\n",
       "40.0  39.5  40.0  39.0  39.500000  0.204124\n",
       "30.0  29.5  30.5  29.5  29.833333  0.235702"
      ]
     },
     "execution_count": 20,
     "metadata": {},
     "output_type": "execute_result"
    }
   ],
   "source": [
    "df = pd.DataFrame(np.array([\n",
    "    [80,70,60,50,40,30],\n",
    "    [80,70,60,49.5,39.5,29.5],\n",
    "    [80.5,70,60,50,40,30.5],\n",
    "    [80,70,59.5,49.5,39.0,29.5]\n",
    "]).T)\n",
    "df = df.set_index(0)\n",
    "df[\"mean\"] = df.mean(axis=1)\n",
    "df[\"std err\"] = np.maximum(df.std(axis=1)/np.sqrt(df.shape[1]), 0.1)\n",
    "df"
   ]
  },
  {
   "cell_type": "code",
   "execution_count": 29,
   "metadata": {},
   "outputs": [
    {
     "data": {
      "text/plain": [
       "Text(0.5, 1.0, 'Incident angle vs. Output angle')"
      ]
     },
     "execution_count": 29,
     "metadata": {},
     "output_type": "execute_result"
    },
    {
     "data": {
      "image/png": "[encoded data removed]",
      "text/plain": [
       "<Figure size 432x288 with 1 Axes>"
      ]
     },
     "metadata": {
      "needs_background": "light"
     },
     "output_type": "display_data"
    }
   ],
   "source": [
    "plt.plot(df.index, df[\"mean\"], \"o\")\n",
    "plt.errorbar(df.index, df[\"mean\"], yerr=df[\"std err\"], fmt=\"none\")\n",
    "plt.xlabel(\"Incident angle (degrees)\")\n",
    "plt.ylabel(\"Output Angle (degrees)\")\n",
    "plt.title(\"Incident angle vs. Output angle\")"
   ]
  },
  {
   "cell_type": "code",
   "execution_count": 41,
   "metadata": {},
   "outputs": [
    {
     "data": {
      "text/plain": [
       "array([[0.9980737]])"
      ]
     },
     "execution_count": 41,
     "metadata": {},
     "output_type": "execute_result"
    }
   ],
   "source": [
    "lr = LinearRegression(fit_intercept=False)\n",
    "lr.fit(df.index.values.reshape(-1, 1), df[[\"mean\"]])\n",
    "lr.coef_"
   ]
  },
  {
   "cell_type": "code",
   "execution_count": 46,
   "metadata": {},
   "outputs": [
    {
     "data": {
      "image/png": "[encoded data removed]",
      "text/plain": [
       "<Figure size 432x288 with 1 Axes>"
      ]
     },
     "metadata": {
      "needs_background": "light"
     },
     "output_type": "display_data"
    }
   ],
   "source": [
    "plt.plot(df.index, df[\"mean\"], \"o\", label=\"Data\")\n",
    "plt.errorbar(df.index, df[\"mean\"], yerr=df[\"std err\"], fmt=\"none\")\n",
    "plt.xlabel(\"Incident angle (degrees)\")\n",
    "plt.ylabel(\"Output Angle (degrees)\")\n",
    "plt.title(\"Incident angle vs. Output angle\")\n",
    "plt.plot(df.index, lr.coef_[0]*df.index, \"r\", label=\"Line of best fit (slope = 0.9980737)\")\n",
    "plt.legend();"
   ]
  },
  {
   "cell_type": "code",
   "execution_count": 47,
   "metadata": {},
   "outputs": [],
   "source": [
    "from scipy.stats import chisquare"
   ]
  },
  {
   "cell_type": "code",
   "execution_count": 49,
   "metadata": {},
   "outputs": [
    {
     "data": {
      "text/plain": [
       "Power_divergenceResult(statistic=0.010208333333333385, pvalue=0.9999994419760996)"
      ]
     },
     "execution_count": 49,
     "metadata": {},
     "output_type": "execute_result"
    }
   ],
   "source": [
    "chisquare(f_obs=df[\"mean\"], f_exp=df.index)"
   ]
  },
  {
   "cell_type": "markdown",
   "metadata": {},
   "source": [
    "# 2.2"
   ]
  },
  {
   "cell_type": "code",
   "execution_count": 53,
   "metadata": {},
   "outputs": [
    {
     "data": {
      "text/html": [
       "<div>\n",
       "<style scoped>\n",
       "    .dataframe tbody tr th:only-of-type {\n",
       "        vertical-align: middle;\n",
       "    }\n",
       "\n",
       "    .dataframe tbody tr th {\n",
       "        vertical-align: top;\n",
       "    }\n",
       "\n",
       "    .dataframe thead th {\n",
       "        text-align: right;\n",
       "    }\n",
       "</style>\n",
       "<table border=\"1\" class=\"dataframe\">\n",
       "  <thead>\n",
       "    <tr style=\"text-align: right;\">\n",
       "      <th></th>\n",
       "      <th>1</th>\n",
       "      <th>2</th>\n",
       "      <th>mean</th>\n",
       "      <th>std err</th>\n",
       "    </tr>\n",
       "    <tr>\n",
       "      <th>0</th>\n",
       "      <th></th>\n",
       "      <th></th>\n",
       "      <th></th>\n",
       "      <th></th>\n",
       "    </tr>\n",
       "  </thead>\n",
       "  <tbody>\n",
       "    <tr>\n",
       "      <th>46.5</th>\n",
       "      <td>2.2</td>\n",
       "      <td>2.1</td>\n",
       "      <td>2.15</td>\n",
       "      <td>0.1</td>\n",
       "    </tr>\n",
       "    <tr>\n",
       "      <th>11.0</th>\n",
       "      <td>0.4</td>\n",
       "      <td>0.5</td>\n",
       "      <td>0.45</td>\n",
       "      <td>0.1</td>\n",
       "    </tr>\n",
       "    <tr>\n",
       "      <th>23.0</th>\n",
       "      <td>1.1</td>\n",
       "      <td>1.1</td>\n",
       "      <td>1.10</td>\n",
       "      <td>0.1</td>\n",
       "    </tr>\n",
       "    <tr>\n",
       "      <th>56.5</th>\n",
       "      <td>2.5</td>\n",
       "      <td>2.5</td>\n",
       "      <td>2.50</td>\n",
       "      <td>0.1</td>\n",
       "    </tr>\n",
       "    <tr>\n",
       "      <th>71.0</th>\n",
       "      <td>3.1</td>\n",
       "      <td>3.1</td>\n",
       "      <td>3.10</td>\n",
       "      <td>0.1</td>\n",
       "    </tr>\n",
       "    <tr>\n",
       "      <th>64.0</th>\n",
       "      <td>2.8</td>\n",
       "      <td>2.9</td>\n",
       "      <td>2.85</td>\n",
       "      <td>0.1</td>\n",
       "    </tr>\n",
       "    <tr>\n",
       "      <th>37.5</th>\n",
       "      <td>1.7</td>\n",
       "      <td>1.7</td>\n",
       "      <td>1.70</td>\n",
       "      <td>0.1</td>\n",
       "    </tr>\n",
       "  </tbody>\n",
       "</table>\n",
       "</div>"
      ],
      "text/plain": [
       "        1    2  mean  std err\n",
       "0                            \n",
       "46.5  2.2  2.1  2.15      0.1\n",
       "11.0  0.4  0.5  0.45      0.1\n",
       "23.0  1.1  1.1  1.10      0.1\n",
       "56.5  2.5  2.5  2.50      0.1\n",
       "71.0  3.1  3.1  3.10      0.1\n",
       "64.0  2.8  2.9  2.85      0.1\n",
       "37.5  1.7  1.7  1.70      0.1"
      ]
     },
     "execution_count": 53,
     "metadata": {},
     "output_type": "execute_result"
    }
   ],
   "source": [
    "df2 = pd.DataFrame(np.array([[46.5,\n",
    "11,\n",
    "23,\n",
    "56.5,\n",
    "71,\n",
    "64,\n",
    "37.5],\n",
    "[2.2,\n",
    "0.4,\n",
    "1.1,\n",
    "2.5,\n",
    "3.1,\n",
    "2.8,\n",
    "1.7],\n",
    "[2.1,\n",
    "0.5,\n",
    "1.1,\n",
    "2.5,\n",
    "3.1,\n",
    "2.9,\n",
    "1.7]]).T)\n",
    "df2 = df2.set_index(0)\n",
    "df2[\"mean\"] = df2.mean(axis=1)\n",
    "df2[\"std err\"] = np.maximum(df2.std(axis=1)/np.sqrt(df2.shape[1]), 0.1)\n",
    "df2"
   ]
  },
  {
   "cell_type": "code",
   "execution_count": 60,
   "metadata": {},
   "outputs": [],
   "source": [
    "def n_brick(t, y, theta):\n",
    "    return (np.sqrt(y**2 + 4*t**2) / y) * np.sin(theta * np.pi / 180)\n",
    "\n",
    "t = 1.8"
   ]
  },
  {
   "cell_type": "code",
   "execution_count": 82,
   "metadata": {},
   "outputs": [
    {
     "data": {
      "text/html": [
       "<div>\n",
       "<style scoped>\n",
       "    .dataframe tbody tr th:only-of-type {\n",
       "        vertical-align: middle;\n",
       "    }\n",
       "\n",
       "    .dataframe tbody tr th {\n",
       "        vertical-align: top;\n",
       "    }\n",
       "\n",
       "    .dataframe thead th {\n",
       "        text-align: right;\n",
       "    }\n",
       "</style>\n",
       "<table border=\"1\" class=\"dataframe\">\n",
       "  <thead>\n",
       "    <tr style=\"text-align: right;\">\n",
       "      <th></th>\n",
       "      <th>1</th>\n",
       "      <th>2</th>\n",
       "      <th>mean</th>\n",
       "      <th>std err</th>\n",
       "      <th>n_brick</th>\n",
       "    </tr>\n",
       "    <tr>\n",
       "      <th>0</th>\n",
       "      <th></th>\n",
       "      <th></th>\n",
       "      <th></th>\n",
       "      <th></th>\n",
       "      <th></th>\n",
       "    </tr>\n",
       "  </thead>\n",
       "  <tbody>\n",
       "    <tr>\n",
       "      <th>46.5</th>\n",
       "      <td>2.2</td>\n",
       "      <td>2.1</td>\n",
       "      <td>2.15</td>\n",
       "      <td>0.1</td>\n",
       "      <td>1.414699</td>\n",
       "    </tr>\n",
       "    <tr>\n",
       "      <th>11.0</th>\n",
       "      <td>0.4</td>\n",
       "      <td>0.5</td>\n",
       "      <td>0.45</td>\n",
       "      <td>0.1</td>\n",
       "      <td>1.538351</td>\n",
       "    </tr>\n",
       "    <tr>\n",
       "      <th>23.0</th>\n",
       "      <td>1.1</td>\n",
       "      <td>1.1</td>\n",
       "      <td>1.10</td>\n",
       "      <td>0.1</td>\n",
       "      <td>1.337120</td>\n",
       "    </tr>\n",
       "    <tr>\n",
       "      <th>56.5</th>\n",
       "      <td>2.5</td>\n",
       "      <td>2.5</td>\n",
       "      <td>2.50</td>\n",
       "      <td>0.1</td>\n",
       "      <td>1.461942</td>\n",
       "    </tr>\n",
       "    <tr>\n",
       "      <th>71.0</th>\n",
       "      <td>3.1</td>\n",
       "      <td>3.1</td>\n",
       "      <td>3.10</td>\n",
       "      <td>0.1</td>\n",
       "      <td>1.449019</td>\n",
       "    </tr>\n",
       "    <tr>\n",
       "      <th>64.0</th>\n",
       "      <td>2.8</td>\n",
       "      <td>2.9</td>\n",
       "      <td>2.85</td>\n",
       "      <td>0.1</td>\n",
       "      <td>1.448026</td>\n",
       "    </tr>\n",
       "    <tr>\n",
       "      <th>37.5</th>\n",
       "      <td>1.7</td>\n",
       "      <td>1.7</td>\n",
       "      <td>1.70</td>\n",
       "      <td>0.1</td>\n",
       "      <td>1.425650</td>\n",
       "    </tr>\n",
       "  </tbody>\n",
       "</table>\n",
       "</div>"
      ],
      "text/plain": [
       "        1    2  mean  std err   n_brick\n",
       "0                                      \n",
       "46.5  2.2  2.1  2.15      0.1  1.414699\n",
       "11.0  0.4  0.5  0.45      0.1  1.538351\n",
       "23.0  1.1  1.1  1.10      0.1  1.337120\n",
       "56.5  2.5  2.5  2.50      0.1  1.461942\n",
       "71.0  3.1  3.1  3.10      0.1  1.449019\n",
       "64.0  2.8  2.9  2.85      0.1  1.448026\n",
       "37.5  1.7  1.7  1.70      0.1  1.425650"
      ]
     },
     "execution_count": 82,
     "metadata": {},
     "output_type": "execute_result"
    }
   ],
   "source": [
    "df2[\"n_brick\"] = n_brick(t, df2[\"mean\"], df2.index)\n",
    "df2"
   ]
  },
  {
   "cell_type": "code",
   "execution_count": 69,
   "metadata": {},
   "outputs": [],
   "source": [
    "def n_err(t, y, theta, delta):\n",
    "    z = y / np.sqrt(y**2 + 4*t**2)\n",
    "    return np.sqrt(((np.cos(theta * np.pi / 180) * delta * theta) / z)**2 + ((4*t*np.sin(theta * np.pi / 180) * z)/y**3)**2 * ((t * delta * y)**2 + (y + delta * t)**2))"
   ]
  },
  {
   "cell_type": "code",
   "execution_count": 86,
   "metadata": {},
   "outputs": [
    {
     "data": {
      "text/html": [
       "<div>\n",
       "<style scoped>\n",
       "    .dataframe tbody tr th:only-of-type {\n",
       "        vertical-align: middle;\n",
       "    }\n",
       "\n",
       "    .dataframe tbody tr th {\n",
       "        vertical-align: top;\n",
       "    }\n",
       "\n",
       "    .dataframe thead th {\n",
       "        text-align: right;\n",
       "    }\n",
       "</style>\n",
       "<table border=\"1\" class=\"dataframe\">\n",
       "  <thead>\n",
       "    <tr style=\"text-align: right;\">\n",
       "      <th></th>\n",
       "      <th>n_brick</th>\n",
       "      <th>n_brick_err</th>\n",
       "    </tr>\n",
       "    <tr>\n",
       "      <th>theta</th>\n",
       "      <th></th>\n",
       "      <th></th>\n",
       "    </tr>\n",
       "  </thead>\n",
       "  <tbody>\n",
       "    <tr>\n",
       "      <th>46.5</th>\n",
       "      <td>1.414699</td>\n",
       "      <td>0.221778</td>\n",
       "    </tr>\n",
       "    <tr>\n",
       "      <th>11.0</th>\n",
       "      <td>1.538351</td>\n",
       "      <td>0.285572</td>\n",
       "    </tr>\n",
       "    <tr>\n",
       "      <th>23.0</th>\n",
       "      <td>1.337120</td>\n",
       "      <td>0.272570</td>\n",
       "    </tr>\n",
       "    <tr>\n",
       "      <th>56.5</th>\n",
       "      <td>1.461942</td>\n",
       "      <td>0.188089</td>\n",
       "    </tr>\n",
       "    <tr>\n",
       "      <th>71.0</th>\n",
       "      <td>1.449019</td>\n",
       "      <td>0.123429</td>\n",
       "    </tr>\n",
       "    <tr>\n",
       "      <th>64.0</th>\n",
       "      <td>1.448026</td>\n",
       "      <td>0.157157</td>\n",
       "    </tr>\n",
       "    <tr>\n",
       "      <th>37.5</th>\n",
       "      <td>1.425650</td>\n",
       "      <td>0.245676</td>\n",
       "    </tr>\n",
       "  </tbody>\n",
       "</table>\n",
       "</div>"
      ],
      "text/plain": [
       "        n_brick  n_brick_err\n",
       "theta                       \n",
       "46.5   1.414699     0.221778\n",
       "11.0   1.538351     0.285572\n",
       "23.0   1.337120     0.272570\n",
       "56.5   1.461942     0.188089\n",
       "71.0   1.449019     0.123429\n",
       "64.0   1.448026     0.157157\n",
       "37.5   1.425650     0.245676"
      ]
     },
     "execution_count": 86,
     "metadata": {},
     "output_type": "execute_result"
    }
   ],
   "source": [
    "df2[\"n_brick_err\"] = n_err(t, df2[\"mean\"], df2.index, df2[\"std err\"]) / n_brick(t, df2[\"mean\"], df2.index) * 0.05\n",
    "df2[[\"n_brick\", \"n_brick_err\"]]"
   ]
  },
  {
   "cell_type": "code",
   "execution_count": 87,
   "metadata": {},
   "outputs": [
    {
     "data": {
      "text/plain": [
       "1.439258198831299"
      ]
     },
     "execution_count": 87,
     "metadata": {},
     "output_type": "execute_result"
    }
   ],
   "source": [
    "np.mean(df2[\"n_brick\"])"
   ]
  },
  {
   "cell_type": "code",
   "execution_count": 88,
   "metadata": {},
   "outputs": [
    {
     "data": {
      "text/plain": [
       "0.05571202396735119"
      ]
     },
     "execution_count": 88,
     "metadata": {},
     "output_type": "execute_result"
    }
   ],
   "source": [
    "np.std(df2[\"n_brick\"])"
   ]
  },
  {
   "cell_type": "code",
   "execution_count": 90,
   "metadata": {},
   "outputs": [
    {
     "data": {
      "text/plain": [
       "0.022744338542952887"
      ]
     },
     "execution_count": 90,
     "metadata": {},
     "output_type": "execute_result"
    }
   ],
   "source": [
    "from scipy.stats import sem\n",
    "sem(df2[\"n_brick\"])"
   ]
  },
  {
   "cell_type": "code",
   "execution_count": 103,
   "metadata": {},
   "outputs": [
    {
     "data": {
      "image/png": "[encoded data removed]",
      "text/plain": [
       "<Figure size 432x288 with 1 Axes>"
      ]
     },
     "metadata": {
      "needs_background": "light"
     },
     "output_type": "display_data"
    }
   ],
   "source": [
    "plt.plot(df2.index, df2[\"n_brick\"], \"o\", label=\"Data\")\n",
    "plt.xlabel(\"Incident angle (degrees)\")\n",
    "plt.ylabel(\"N_Block\")\n",
    "plt.title(\"N_Block vs Incident angle\")\n",
    "plt.hlines(np.mean(df2[\"n_brick\"]), min(df2.index), max(df2.index), label=\"Mean\", color=\"r\")\n",
    "# horizontal lines at +/- 1 standard deviation\n",
    "plt.hlines(np.mean(df2[\"n_brick\"]) + np.std(df2[\"n_brick\"]), min(df2.index), max(df2.index), label=\"+-1SD\", color=\"black\", linestyle=\"--\")\n",
    "plt.hlines(np.mean(df2[\"n_brick\"]) - np.std(df2[\"n_brick\"]), min(df2.index), max(df2.index), label=\"+-1SD\", color=\"black\", linestyle=\"--\")\n",
    "\n",
    "plt.legend();"
   ]
  },
  {
   "cell_type": "code",
   "execution_count": null,
   "metadata": {},
   "outputs": [],
   "source": []
  }
 ],
 "metadata": {
  "interpreter": {
   "hash": "3b40c0205943e3cc11fab46d0de2702c66fee9971a8bd763cf59f3a7722aadbd"
  },
  "kernelspec": {
   "display_name": "Python 3.7.6 ('base')",
   "language": "python",
   "name": "python3"
  },
  "language_info": {
   "codemirror_mode": {
    "name": "ipython",
    "version": 3
   },
   "file_extension": ".py",
   "mimetype": "text/x-python",
   "name": "python",
   "nbconvert_exporter": "python",
   "pygments_lexer": "ipython3",
   "version": "3.7.6"
  },
  "orig_nbformat": 4
 },
 "nbformat": 4,
 "nbformat_minor": 2
}
