{
 "cells": [
  {
   "cell_type": "code",
   "execution_count": 2,
   "metadata": {},
   "outputs": [],
   "source": [
    "import pandas as pd\n",
    "import numpy as np\n",
    "import matplotlib.pyplot as plt"
   ]
  },
  {
   "cell_type": "code",
   "execution_count": 26,
   "metadata": {},
   "outputs": [
    {
     "data": {
      "text/plain": [
       "{'angle': [0, 15, 30, 45, 60, 75, 90],\n",
       " 'intensity': [6709, 6151, 4924, 3348, 1714, 468.2, 2.2],\n",
       " 'intensity_error': [0.77, 0.99, 1.48, 0.27, 0.66, 0.051, 0.1]}"
      ]
     },
     "execution_count": 26,
     "metadata": {},
     "output_type": "execute_result"
    }
   ],
   "source": [
    "d = {\n",
    "    \"angle\": list(np.arange(0, 105, 15)),\n",
    "    \"intensity\": [\n",
    "        6709,\n",
    "        6151,\n",
    "        4924,\n",
    "        3348,\n",
    "        1714,\n",
    "        468.2,\n",
    "        2.2\n",
    "    ],\n",
    "    \"intensity_error\": [\n",
    "        0.77,\n",
    "        0.99,\n",
    "        1.48,\n",
    "        .27,\n",
    "        0.66,\n",
    "        .051,\n",
    "        .1\n",
    "    ]\n",
    "}\n",
    "\n",
    "d"
   ]
  },
  {
   "cell_type": "code",
   "execution_count": 27,
   "metadata": {},
   "outputs": [
    {
     "data": {
      "text/html": [
       "<div>\n",
       "<style scoped>\n",
       "    .dataframe tbody tr th:only-of-type {\n",
       "        vertical-align: middle;\n",
       "    }\n",
       "\n",
       "    .dataframe tbody tr th {\n",
       "        vertical-align: top;\n",
       "    }\n",
       "\n",
       "    .dataframe thead th {\n",
       "        text-align: right;\n",
       "    }\n",
       "</style>\n",
       "<table border=\"1\" class=\"dataframe\">\n",
       "  <thead>\n",
       "    <tr style=\"text-align: right;\">\n",
       "      <th></th>\n",
       "      <th>angle</th>\n",
       "      <th>intensity</th>\n",
       "      <th>intensity_error</th>\n",
       "    </tr>\n",
       "  </thead>\n",
       "  <tbody>\n",
       "    <tr>\n",
       "      <th>0</th>\n",
       "      <td>0</td>\n",
       "      <td>6709.0</td>\n",
       "      <td>0.770</td>\n",
       "    </tr>\n",
       "    <tr>\n",
       "      <th>1</th>\n",
       "      <td>15</td>\n",
       "      <td>6151.0</td>\n",
       "      <td>0.990</td>\n",
       "    </tr>\n",
       "    <tr>\n",
       "      <th>2</th>\n",
       "      <td>30</td>\n",
       "      <td>4924.0</td>\n",
       "      <td>1.480</td>\n",
       "    </tr>\n",
       "    <tr>\n",
       "      <th>3</th>\n",
       "      <td>45</td>\n",
       "      <td>3348.0</td>\n",
       "      <td>0.270</td>\n",
       "    </tr>\n",
       "    <tr>\n",
       "      <th>4</th>\n",
       "      <td>60</td>\n",
       "      <td>1714.0</td>\n",
       "      <td>0.660</td>\n",
       "    </tr>\n",
       "    <tr>\n",
       "      <th>5</th>\n",
       "      <td>75</td>\n",
       "      <td>468.2</td>\n",
       "      <td>0.051</td>\n",
       "    </tr>\n",
       "    <tr>\n",
       "      <th>6</th>\n",
       "      <td>90</td>\n",
       "      <td>2.2</td>\n",
       "      <td>0.100</td>\n",
       "    </tr>\n",
       "  </tbody>\n",
       "</table>\n",
       "</div>"
      ],
      "text/plain": [
       "   angle  intensity  intensity_error\n",
       "0      0     6709.0            0.770\n",
       "1     15     6151.0            0.990\n",
       "2     30     4924.0            1.480\n",
       "3     45     3348.0            0.270\n",
       "4     60     1714.0            0.660\n",
       "5     75      468.2            0.051\n",
       "6     90        2.2            0.100"
      ]
     },
     "execution_count": 27,
     "metadata": {},
     "output_type": "execute_result"
    }
   ],
   "source": [
    "df = pd.DataFrame(d)\n",
    "df"
   ]
  },
  {
   "cell_type": "code",
   "execution_count": 29,
   "metadata": {},
   "outputs": [
    {
     "data": {
      "image/png": "[encoded data removed]",
      "text/plain": [
       "<Figure size 432x288 with 1 Axes>"
      ]
     },
     "metadata": {
      "needs_background": "light"
     },
     "output_type": "display_data"
    }
   ],
   "source": [
    "# plt.plot_err(d[\"angle\"], d[\"intensity\"])\n",
    "plt.errorbar(d[\"angle\"], d[\"intensity\"], yerr=d[\"intensity_error\"], fmt='o')\n",
    "# plt.xlim(0, 90)\n",
    "plt.title(\"Intensity vs. Angle\")\n",
    "plt.xlabel(\"Angle (degrees)\")\n",
    "plt.ylabel(\"Intensity (Lux)\");"
   ]
  },
  {
   "cell_type": "code",
   "execution_count": 59,
   "metadata": {},
   "outputs": [],
   "source": [
    "# 1.4\n",
    "def intensity_func(theta, I_bg, I_0, theta_0):\n",
    "    return I_bg + I_0 * np.cos((theta - theta_0) * np.pi / 180)**2"
   ]
  },
  {
   "cell_type": "code",
   "execution_count": 60,
   "metadata": {},
   "outputs": [],
   "source": [
    "from scipy.optimize import curve_fit"
   ]
  },
  {
   "cell_type": "code",
   "execution_count": 61,
   "metadata": {},
   "outputs": [],
   "source": [
    "parameters, covariance = curve_fit(intensity_func, df[\"angle\"], df[\"intensity\"])\n"
   ]
  },
  {
   "cell_type": "code",
   "execution_count": 62,
   "metadata": {},
   "outputs": [
    {
     "data": {
      "text/plain": [
       "array([  35.63250724, 6616.80766578, 4499.78687702])"
      ]
     },
     "execution_count": 62,
     "metadata": {},
     "output_type": "execute_result"
    }
   ],
   "source": [
    "parameters"
   ]
  },
  {
   "cell_type": "code",
   "execution_count": 70,
   "metadata": {},
   "outputs": [
    {
     "data": {
      "text/plain": [
       "0.21312298267457663"
      ]
     },
     "execution_count": 70,
     "metadata": {},
     "output_type": "execute_result"
    }
   ],
   "source": [
    "180 - parameters[2] % 180"
   ]
  },
  {
   "cell_type": "code",
   "execution_count": 63,
   "metadata": {},
   "outputs": [
    {
     "data": {
      "text/plain": [
       "array([44.91980626, 55.03035108,  0.47404144])"
      ]
     },
     "execution_count": 63,
     "metadata": {},
     "output_type": "execute_result"
    }
   ],
   "source": [
    "SE = np.sqrt(np.diag(covariance))\n",
    "SE"
   ]
  },
  {
   "cell_type": "code",
   "execution_count": 64,
   "metadata": {},
   "outputs": [
    {
     "data": {
      "image/png": "[encoded data removed]",
      "text/plain": [
       "<Figure size 432x288 with 1 Axes>"
      ]
     },
     "metadata": {
      "needs_background": "light"
     },
     "output_type": "display_data"
    }
   ],
   "source": [
    "plt.plot(df[\"angle\"], intensity_func(df[\"angle\"], *parameters), 'r-', label=\"Fitted Curve\")\n",
    "plt.scatter(df[\"angle\"], df[\"intensity\"], label=\"Data Points\")\n",
    "\n",
    "plt.title(\"Intensity vs. Angle\")\n",
    "plt.xlabel(\"Angle (degrees)\")\n",
    "plt.legend()\n",
    "plt.ylabel(\"Intensity (Lux)\");"
   ]
  },
  {
   "cell_type": "code",
   "execution_count": 72,
   "metadata": {},
   "outputs": [],
   "source": [
    "from scipy.stats import chisquare"
   ]
  },
  {
   "cell_type": "code",
   "execution_count": 74,
   "metadata": {},
   "outputs": [],
   "source": [
    "chi_square, p_value = chisquare(df[\"intensity\"], intensity_func(df[\"angle\"], *parameters))"
   ]
  },
  {
   "cell_type": "code",
   "execution_count": 76,
   "metadata": {},
   "outputs": [
    {
     "data": {
      "text/plain": [
       "4.904403252693784"
      ]
     },
     "execution_count": 76,
     "metadata": {},
     "output_type": "execute_result"
    }
   ],
   "source": [
    "chi_square / len(df[\"intensity\"])"
   ]
  }
 ],
 "metadata": {
  "interpreter": {
   "hash": "a5ed12b88d83e9ebd9e82383ea339d23f1309bcfd653b55c7d37b011d8608c91"
  },
  "kernelspec": {
   "display_name": "Python 3.8.0 64-bit",
   "language": "python",
   "name": "python3"
  },
  "language_info": {
   "codemirror_mode": {
    "name": "ipython",
    "version": 3
   },
   "file_extension": ".py",
   "mimetype": "text/x-python",
   "name": "python",
   "nbconvert_exporter": "python",
   "pygments_lexer": "ipython3",
   "version": "3.8.0"
  },
  "orig_nbformat": 4
 },
 "nbformat": 4,
 "nbformat_minor": 2
}
